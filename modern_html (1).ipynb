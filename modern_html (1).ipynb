{
  "nbformat": 4,
  "nbformat_minor": 0,
  "metadata": {
    "colab": {
      "provenance": []
    },
    "kernelspec": {
      "name": "python3",
      "display_name": "Python 3"
    },
    "language_info": {
      "name": "python"
    }
  },
  "cells": [
    {
      "cell_type": "code",
      "execution_count": null,
      "metadata": {
        "id": "x1g1JUeG5tBB"
      },
      "outputs": [],
      "source": []
    },
    {
      "cell_type": "markdown",
      "source": [
        "Q.1. list out the feature of html 5.\n",
        "\n",
        "i.*** New Structural Elements***\n",
        "\n",
        "\n",
        "Defines the header section of a page or section.\n",
        "\n",
        "<footer>:  Represents the footer of a page or section.\n",
        "\n",
        "<nav>: Specifies navigation links.\n",
        "\n",
        "<article>: Defines content that forms an independent part of a document, like a blog post or a news article.\n",
        "\n",
        "<section>: Defines a section in a document, like chapters or groups of content.\n",
        "\n",
        "<aside>: Defines content aside from the main content, like a sidebar or a pull quote.\n",
        "\n",
        "<main>: Specifies the main content of a document.\n",
        "\n",
        "\n",
        "***ii. Improved Forms***\n",
        "\n",
        "New Input Types: HTML5 introduced several new input types such as:\n",
        "email, tel, url, number, date, time, range, search, etc.\n",
        "\n",
        "Placeholders: The placeholder attribute for form elements like input and textarea.\n",
        "\n",
        "Autofocus: The autofocus attribute can automatically focus on a particular form element when the page loads.\n",
        "\n",
        "Required Field: The required attribute forces the user to fill out a field before submitting the form.\n",
        "\n",
        "Pattern Matching: The pattern attribute allows for regex validation of input.\n",
        "\n",
        "**`iii. Multimedia Support`**\n",
        "\n",
        "audio: For embedding audio content like MP3, OGG, and WAV files.\n",
        "\n",
        "video: For embedding video content, supports multiple formats like MP4, WebM, and Ogg.\n",
        "\n",
        "<track>: Used for adding subtitles or captions to videos.\n",
        "\n",
        "**iv. Canvas and SVG**\n",
        "\n",
        "<canvas>: Enables dynamic, scriptable rendering of 2D shapes, images, and animations. Often used for games and interactive graphics.\n",
        "Scalable Vector Graphics (SVG): Full support for SVG images, allowing vector-based graphics to be used directly in HTML.\n"
      ],
      "metadata": {
        "id": "iDTNq2tN6anS"
      }
    },
    {
      "cell_type": "markdown",
      "source": [
        "Q.2. What are html entities? list out  5 html used html\n",
        "HTML entities are special characters or symbols that are not directly available through standard keyboard characters, and they are used in HTML to represent characters that have a reserved meaning in HTML, such as angle brackets < and >, or characters that may not be easily typed. They are written as & followed by a name or a code number and then a semicolon (;).\n",
        "\n",
        "Here are five commonly used HTML entities:\n",
        "\n",
        "&lt;  Represents the less-than symbol (<).\n",
        "\n",
        "&gt;  Represents the greater-than symbol (>).\n",
        "\n",
        "&amp;  Represents the ampersand symbol (&).\n",
        "\n",
        "&quot;  Represents a double quotation mark (\").\n",
        "\n",
        "&apos;  Represents a single quotation mark (').\n",
        "\n",
        "These entities help ensure that these special characters are displayed properly and don t interfere with the HTML structure itself.\n",
        "\n"
      ],
      "metadata": {
        "id": "7lbteRsw-QI1"
      }
    },
    {
      "cell_type": "markdown",
      "source": [
        "Q.3.Define accessibility in the context of web development. Discuss why it's essential to create accessible websites and how it benefits differnt\n",
        "user gorups.\n",
        "\n",
        "in the context of web development, accessibility refers to the practice of designing and developing websites, applications, and content in such a way that they can be accessed, understood, and used by as many people as possible, including people with disabilities. This includes making sure that individuals with visual, auditory, motor, or cognitive impairments can fully experience and interact with a website or application.\n",
        "\n",
        "**Web accessibility involves:**\n",
        "\n",
        "Making sure content is perceivable to all users (e.g., through text alternatives, color contrast, etc.)\n",
        "\n",
        "Ensuring content can be operated and navigated (e.g., via keyboard for those who can't use a mouse)\n",
        "\n",
        "Making the content understandable and easy to navigate for people with cognitive impairments\n",
        "\n",
        "Providing ways for people to interact with the site in a way that's compatible with assistive technologies, such as screen readers or alternative input devices.\n",
        "\n",
        "Users with Visual Impairments:\n",
        "\n",
        "Screen readers: Users who are blind or have low vision can rely on screen readers to read the text and describe images, buttons, and other elements.\n",
        "Text resizing: Users who are visually impaired can resize text or use high contrast modes for better readability.\n",
        "\n",
        "Color-blind users: Accessible websites use color schemes that ensure good contrast and avoid relying solely on color to convey information.\n",
        "Users with Hearing Impairments:\n",
        "\n",
        "Subtitles and captions: Videos on the site can have subtitles or captions for deaf or hard-of-hearing users, ensuring they can understand audio and video content.\n",
        "\n",
        "Visual cues: Important audio alerts can have visual alternatives, like pop-ups or on-screen notifications.\n",
        "Users with Motor Impairments:\n",
        "\n",
        "Keyboard navigation: Users with limited mobility can navigate a site using just a keyboard, without the need for a mouse. This includes ensuring all interactive elements are reachable and usable through keyboard shortcuts.\n",
        "Voice control: Users with motor impairments may rely on voice control software to interact with websites.\n",
        "Users with Cognitive or Learning Disabilities:\n",
        "\n",
        "Clear and simple design: Accessible websites often prioritize clarity and simplicity, making navigation and understanding easier for individuals with cognitive disabilities, such as dyslexia or ADHD.\n",
        "\n",
        "Consistent layouts: Predictable and logical layouts can help users with memory impairments or those who have trouble processing information.\n",
        "Elderly Users:\n",
        "\n",
        "Larger text and clear fonts: Aging users may experience diminished vision or cognitive function, and accessible websites tend to use larger text, simpler designs, and clear fonts to improve readability and ease of use.\n",
        "\n",
        "Simplified interaction: For seniors who might struggle with complex websites, accessibility helps make tasks like navigating forms or checking out products simpler.\n",
        "\n"
      ],
      "metadata": {
        "id": "s9XyL4IcGC3e"
      }
    },
    {
      "cell_type": "markdown",
      "source": [
        "Q.4.list any 3 wasy whihc help us in improving the accessibilty  of html\n",
        "\n",
        "**Use Semantic HTML Tags:**\n",
        "\n",
        "Semantic elements like header, footer, article, nav, and main provide meaning to the structure of the page. These tags help screen readers and other assistive technologies understand the content and layout, making it easier to navigate. For example, nav helps identify navigation links, while header indicates the introductory section of the page.\n",
        "\n",
        "Use the alt attribute for images to provide descriptive text for visually impaired users who rely on screen readers. For example:\n",
        "\n",
        "\n",
        "\n"
      ],
      "metadata": {
        "id": "8uI4auZVQLk7"
      }
    },
    {
      "cell_type": "code",
      "source": [
        "<!DOCTYPE html>\n",
        "<html>\n",
        "  <head>\n",
        "    <title>Hello, World!</title>\n",
        "    <link rel=\"stylesheet\" href=\"styles.css\" />\n",
        "  </head>\n",
        "  <body>\n",
        "      <img src=\"https://cdn.pixabay.com/photo/2023/10/29/13/21/waterfall-8350178_640.jpg\">\n",
        "      <script src=\"script.js\"></script>\n",
        "  </body>\n",
        "</html>\n",
        "\n"
      ],
      "metadata": {
        "id": "GxLifiYURAbn"
      },
      "execution_count": null,
      "outputs": []
    },
    {
      "cell_type": "markdown",
      "source": [
        "nsure Keyboard Accessibility:\n",
        "\n",
        "Ensure that all interactive elements (like links, buttons, and forms) are navigable and usable with a keyboard alone. Use proper HTML elements like (button) instead of (div) or (span) for clickable actions. Additionally, make sure that elements are properly focusable, and use the tabindex attribute where necessary to create a logical tab order for keyboard users.\n",
        "\n",
        "These simple steps can help improve the overall accessibility of a website, ensuring it is usable by a wider range of users, including those with disabilities.\n",
        "\n"
      ],
      "metadata": {
        "id": "LPBKyCcUToj7"
      }
    },
    {
      "cell_type": "markdown",
      "source": [
        "::Q5. create  a web page that highlihts the features of Html5 . use approriate semantic tags to structure the containt and showcase at least three key features of HTML with explanations.\n",
        "\n",
        "\n",
        "\n"
      ],
      "metadata": {
        "id": "ZmrPvp-aXswB"
      }
    },
    {
      "cell_type": "code",
      "source": [
        "!DOCTYPE html>\n",
        "<html>\n",
        "  <head>\n",
        "    <title>Hello, World!</title>\n",
        "    <link rel=\"stylesheet\" href=\"styles.css\" />\n",
        "  </head>\n",
        "  <body>\n",
        "      <header>\n",
        "        <h1>  HTML 5 Features</h1>\n",
        "        </header>\n",
        "        <main>\n",
        "          <section>\n",
        "            <h2>What is HTML 5?</h2>\n",
        "            <p>html 5  is is latest version of html.it is introduce<br>to make\n",
        "            new website moer powerful and user friendly.</p>\n",
        "            </section>\n",
        "            <section>\n",
        "            <h2> Key feature of html 5</h2>\n",
        "            <p> <code>\n",
        "              #include<stdio.h>\n",
        "                int main()\n",
        "                {\n",
        "                printf(\"hello world\");\n",
        "                }\n",
        "                </code>\n",
        "                </h3> </section>\n",
        "                <!-- Article tag -->\n",
        "\n",
        "\n",
        "                <section>\n",
        "\n",
        "                <article>\n",
        "                  <h4>Example of an article</h4>\n",
        "      <p>This is the blog post that could be  shared to the other website </p>\n",
        "\n",
        "                  </article>\n",
        "                  </section>\n",
        "\n",
        "                   <!-- section -->\n",
        "\n",
        "                  <section>\n",
        "                    <h3>2. the <code> &lt; section &gt; <code></h3>\n",
        "      <p><code> &lt; section &gt; <code> tag help group related contained <br>\n",
        "                    together into the section</p>\n",
        "                    <section>\n",
        "                      <h3> Example of section tag</h3>\n",
        "                      <p> this a section with conect belong together.<br>\n",
        "                      you have multiple section in web page</p>\n",
        "\n",
        "                    </secton>\n",
        "\n",
        "\n",
        "                  </section>\n",
        "\n",
        "                   <!-- video tag -->\n",
        "                    <secton>\n",
        "                      <h3>2. the <code> &lt; video &gt; <code></h3>\n",
        "                      <p> HTML 5  introduce the <video> tag to easily <br>\n",
        "                      emabed video file in a web-pageThis means you can add\n",
        "                  videos without relying on external plugins like Flash.</p>\n",
        "                  <p>Here is an example of embedding a video in HTML5:</p></p>\n",
        "\n",
        "                      <video width=\"400\" control>\n",
        "                         <source src=\"https://www.w3schools.com/html/movie.mp4\"\n",
        "                         type=\"video/mp4\">\n",
        "                         Your browser does not support the video tag.\n",
        "                      </video>\n",
        "                      </section>\n",
        "\n",
        "\n",
        "\n",
        "\n",
        "\n",
        "          </main>\n",
        "  </body>\n",
        "</html>\n",
        "\n",
        "\n"
      ],
      "metadata": {
        "id": "NIC7TQvnkOtq"
      },
      "execution_count": null,
      "outputs": []
    },
    {
      "cell_type": "markdown",
      "source": [
        " Q6 create a simple web page which has a table.The table  must have 2 columns HTML  and HTML 5 .  the table should include a minimum of three rows describing the difference between HTML and HTML 5\n",
        "\n",
        "\n",
        ""
      ],
      "metadata": {
        "id": "VN3-FADTkcDI"
      }
    },
    {
      "cell_type": "code",
      "source": [
        "!DOCTYPE html>\n",
        "<html>\n",
        "  <head>\n",
        "    <title>Hello, World!</title>\n",
        "    <link rel=\"stylesheet\" href=\"styles.css\" />\n",
        "  </head>\n",
        "  <body>\n",
        "\n",
        "  <h1><bold> Difference between HTML and HTML 5</bold></h1>\n",
        "\n",
        "  <table border=\"1\" cellpading=\"50\" cellspcing=\"10\">\n",
        "    <tr>\n",
        "    <th> HTML</th>\n",
        "        <th> HTML 5</th>\n",
        "        </tr>\n",
        "        <tr>\n",
        "        <td> HTML is the standard markup language for creating web-page</td>\n",
        "          <td>HTML 5 is latest  version of HTML wiht new\n",
        "          feature and functionlity.</td>\n",
        "</tr>\n",
        "\n",
        "\n",
        "> <tr>\n",
        "   <td>HTML does not support multimedia elements like audio and\n",
        "    video natively.</td>\n",
        "      <td>HTML5 introduces new elements like `audio` and `video`\n",
        "      for multimedia support.</td>\n",
        "\n",
        "   </tr\n",
        "\n",
        "    <tr>\n",
        "   <td>HTML requires third-party plugins (e.g., Flash) for\n",
        "   certain features.</td>\n",
        "      <td>HTML5 reduces reliance on plugins by offering native s\n",
        "      upport for interactive\n",
        "      content like animations, local storage, etc.</td>\n",
        "\n",
        "   </tr\n",
        "    </table>\n",
        "  </body>\n",
        "</html>"
      ],
      "metadata": {
        "id": "5Q0Q6VF6sGxr"
      },
      "execution_count": null,
      "outputs": []
    }
  ]
}